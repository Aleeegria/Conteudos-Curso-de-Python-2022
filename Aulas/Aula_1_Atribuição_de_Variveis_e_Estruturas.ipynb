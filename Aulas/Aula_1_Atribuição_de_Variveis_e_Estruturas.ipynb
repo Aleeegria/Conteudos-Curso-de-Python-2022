{
  "cells": [
    {
      "cell_type": "markdown",
      "metadata": {
        "id": "iT39YAhjfmf6"
      },
      "source": [
        "# <font color=blue|blue|red>**Primeiros Passos**</font>\n",
        "\n",
        "Instalando o Python e o Anaconda:\n",
        "https://www.youtube.com/watch?v=aZuTq9yqZ1o\n",
        "\n",
        "Entendendo o Jupyter Notebook:\n",
        "https://www.youtube.com/watch?v=dPb4acFiaYs"
      ]
    },
    {
      "cell_type": "markdown",
      "metadata": {
        "id": "rRuLlOWpfmgW"
      },
      "source": [
        "# <font color=blue|blue|red>**Jupyter Notebook**</font>\n",
        "\n",
        " - Células do tipo Markdown\n",
        " - Células do tipo Code"
      ]
    },
    {
      "cell_type": "code",
      "execution_count": null,
      "metadata": {
        "scrolled": true,
        "id": "G0qDu6hFfmgd"
      },
      "outputs": [],
      "source": []
    },
    {
      "cell_type": "code",
      "execution_count": null,
      "metadata": {
        "scrolled": true,
        "id": "fTyL183qfmgh"
      },
      "outputs": [],
      "source": [
        "# Primeira Função - Print()\n",
        "print(9 - 6)\n",
        "print(5 + 8)\n",
        "print(\"Hello\")"
      ]
    },
    {
      "cell_type": "markdown",
      "metadata": {
        "id": "lMF-vdfefmgl"
      },
      "source": [
        "# <font color=blue|blue|red>**Variáveis e Estruturas**</font>"
      ]
    },
    {
      "cell_type": "markdown",
      "metadata": {
        "id": "ZT6YeenRfmgn"
      },
      "source": [
        "Nessa aula iremos falar de 7 tipos de objetos, 4 que se encaixam no que chamamos váriaveis, são eles:\n",
        "\n",
        " - Inteiros\n",
        " - Floats\n",
        " - Booleanos\n",
        " - Strings\n",
        "\n",
        "Os outros 3 se encaixam no que chamamos de coleções, conteiners ou estruturas, são eles:\n",
        "\n",
        " - Lista\n",
        " - Tuplas\n",
        " - Dicionários"
      ]
    },
    {
      "cell_type": "markdown",
      "metadata": {
        "id": "oL9pRowBfmhL"
      },
      "source": [
        "## Inteiros\n",
        "\n",
        "O objeto do tipo inteiro, também conhecido como tipo númerico, de forma intuitiva são os números inteiros. Para definir um inteiro baste atribuir um valor (*sem casas decimais*) a uma váriavel\n",
        "![image.png](attachment:image.png)"
      ]
    },
    {
      "cell_type": "code",
      "execution_count": null,
      "metadata": {
        "id": "e6hXS_jRfmhP"
      },
      "outputs": [],
      "source": [
        "# Definindo tipo int\n",
        "x = 5\n",
        "print(x)"
      ]
    },
    {
      "cell_type": "markdown",
      "metadata": {
        "id": "DLLrHNi3fmhU"
      },
      "source": [
        "Podemos verificar o tipo de uma variavel usando a função type()"
      ]
    },
    {
      "cell_type": "code",
      "execution_count": null,
      "metadata": {
        "id": "m-0hYn_EfmhX"
      },
      "outputs": [],
      "source": [
        "# Função Type()\n",
        "\n",
        "dias_ano = 365\n",
        "type(dias_ano)"
      ]
    },
    {
      "cell_type": "markdown",
      "metadata": {
        "id": "sFGoZ691fmhZ"
      },
      "source": [
        "Podemos realizar operações com inteiros"
      ]
    },
    {
      "cell_type": "code",
      "execution_count": null,
      "metadata": {
        "id": "344bMtlgfmhc"
      },
      "outputs": [],
      "source": [
        "# Soma\n",
        "\n",
        "a = 20\n",
        "b = 32\n",
        "c = a + b \n",
        "\n",
        "print(c)"
      ]
    },
    {
      "cell_type": "code",
      "execution_count": null,
      "metadata": {
        "id": "NyXN_PBbfmhe"
      },
      "outputs": [],
      "source": [
        "# Subtração\n",
        "\n",
        "a = 59\n",
        "b = 70\n",
        "\n",
        "print(a - b)"
      ]
    },
    {
      "cell_type": "code",
      "execution_count": null,
      "metadata": {
        "id": "EK3S8rlvfmhg"
      },
      "outputs": [],
      "source": [
        "# Multiplicação\n",
        "\n",
        "massa = 50\n",
        "gravidade = 10\n",
        "peso = massa * gravidade\n",
        "\n",
        "print(f\"O peso é de {peso} N.\")"
      ]
    },
    {
      "cell_type": "code",
      "execution_count": null,
      "metadata": {
        "id": "pMBg0BT2fmhk"
      },
      "outputs": [],
      "source": [
        "# Divisão Euclidiana (apenas inteiros)\n",
        "dividendo = 100\n",
        "divisor = 6\n",
        "\n",
        "# Usamos // para obter um inteiro como resposta\n",
        "quociente = 100 // 6 \n",
        "\n",
        "# Usamos % para obter o resto de uma divisão\n",
        "resto = 100 % 6  \n",
        "\n",
        "print(f\"O quociente é {quociente}, e o resto é {resto}.\")"
      ]
    },
    {
      "cell_type": "code",
      "execution_count": null,
      "metadata": {
        "id": "j0I1jvFefmhm"
      },
      "outputs": [],
      "source": [
        "# Divisão Comum (usamos o operador /)\n",
        "distancia = 100\n",
        "tempo = 9\n",
        "\n",
        "print(f\"A velocidade é de {distancia / tempo} m/s\") "
      ]
    },
    {
      "cell_type": "markdown",
      "metadata": {
        "id": "kzhijivUfmhq"
      },
      "source": [
        "Observe que o resultado acima não é um inteiro, vamos ver que tipo ele é:"
      ]
    },
    {
      "cell_type": "code",
      "execution_count": null,
      "metadata": {
        "id": "_V23FxL-fmhr"
      },
      "outputs": [],
      "source": [
        "type(distancia / tempo)"
      ]
    },
    {
      "cell_type": "markdown",
      "metadata": {
        "id": "U93YX9ZPfmhs"
      },
      "source": [
        "## Float\n",
        "\n",
        "O objeto do tipo float, como visto acima, é aquele que tem casa decimal, ou seja um número real. Observe que o decimal em Python é representado pelo ponto ( . ) e não a virgula como usamos aqui no Brasil, então não use separador de milhar como temos costume e ao invés de vírgula use o ponto. \n",
        "![image.png](attachment:image.png)\n",
        "\n",
        "Para os floats podemos usar as mesmas operações que usamos nos inteiros. Então vou mostrar uma nova, a exponencial (que também pode ser usada em inteiros)"
      ]
    },
    {
      "cell_type": "code",
      "execution_count": null,
      "metadata": {
        "id": "NDFVo1JJfmht"
      },
      "outputs": [],
      "source": [
        "# Definindo tipo float\n",
        "\n",
        "a = 1.0 + 5\n",
        "print(a)"
      ]
    },
    {
      "cell_type": "code",
      "execution_count": null,
      "metadata": {
        "id": "FO8FXxqhfmh6"
      },
      "outputs": [],
      "source": [
        "# Exponencial (**)\n",
        "\n",
        "pi = 3.14\n",
        "raio = 2.5\n",
        "area = pi * (raio ** 2)\n",
        "print(f\"Área = {area}\")"
      ]
    },
    {
      "cell_type": "code",
      "execution_count": null,
      "metadata": {
        "id": "NwCmLOErfmiZ"
      },
      "outputs": [],
      "source": [
        "# Raiz Quadrada\n",
        "\n",
        "print(f\"Para fazer raiz quadrada basta elevar a meio. raiz de 55 é {55**0.5}.\")"
      ]
    },
    {
      "cell_type": "markdown",
      "metadata": {
        "id": "QdlxVcoBfmib"
      },
      "source": [
        "Podemos arredondar floats usando a função round(), onde passamos o número a se arredondar e quantas casas decimais queremos."
      ]
    },
    {
      "cell_type": "code",
      "execution_count": null,
      "metadata": {
        "id": "2vQZKx-qfmic"
      },
      "outputs": [],
      "source": [
        "pi = 3.141592653589793238462643383279502884197169399375105820974944\n",
        "arred_pi = round(pi, 3)\n",
        "print(f\"pi vale aproximadamente {arred_pi}\")"
      ]
    },
    {
      "cell_type": "markdown",
      "metadata": {
        "id": "X8FaHQenfmid"
      },
      "source": [
        "### Booleanos\n",
        "\n",
        "Aqui falaremos do tipo bool, não vamos entrar a fundo. O Bool é um objeto que vem da algebra booleana. Aqui em programação vamos tratar como verdadeiro (True) ou falso (False), onde True vale 1 e False vale 0"
      ]
    },
    {
      "cell_type": "code",
      "execution_count": null,
      "metadata": {
        "id": "8NRMxYuKfmif"
      },
      "outputs": [],
      "source": [
        "# Definindo tipo bool\n",
        "\n",
        "x = False\n",
        "print(x)"
      ]
    },
    {
      "cell_type": "code",
      "execution_count": null,
      "metadata": {
        "id": "cvg3tmztfmig"
      },
      "outputs": [],
      "source": [
        "# X é uma instancia que vale 1\n",
        "\n",
        "b = x + 2\n",
        "print(b)"
      ]
    },
    {
      "cell_type": "code",
      "execution_count": null,
      "metadata": {
        "id": "TzBfc8A4fmii"
      },
      "outputs": [],
      "source": [
        "# Podemos comparar duas variaveis e ele retornara um bool.\n",
        "\n",
        "a = 12.01 \n",
        "b = 12 \n",
        "# Para comparar dois números usamos o igual duas vezes\n",
        "\n",
        "c = (a == b)\n",
        "print(c)"
      ]
    },
    {
      "cell_type": "markdown",
      "metadata": {
        "id": "Yailf_nwfmij"
      },
      "source": [
        "### String \n",
        "\n",
        "Em Python o tipo string é uma junção de caracteres, ele é definido como tudo aquilo que tiver entre 1 ou 3 aspas, sejam elas simples ou duplas. Alguns chamam de texto.\n"
      ]
    },
    {
      "cell_type": "code",
      "execution_count": null,
      "metadata": {
        "id": "r3Xj_zKsfmim"
      },
      "outputs": [],
      "source": [
        "# Definindo tipo str\n",
        "\n",
        "nome = \"FEA.dev\"\n",
        "type(nome)"
      ]
    },
    {
      "cell_type": "markdown",
      "metadata": {
        "id": "WUSQqbpOfmin"
      },
      "source": [
        "Podemos concatenar strings com uma operação de soma, e observe que o espaço dentro das aspas também é considerado caractere."
      ]
    },
    {
      "cell_type": "code",
      "execution_count": null,
      "metadata": {
        "id": "SFPiUPrAfmio"
      },
      "outputs": [],
      "source": [
        "qualidade = \" é a melhor entidade da FEA\"\n",
        "print(nome + qualidade)"
      ]
    },
    {
      "cell_type": "code",
      "execution_count": null,
      "metadata": {
        "id": "Rn1NBH-cfmip"
      },
      "outputs": [],
      "source": [
        "# Podemos deixar tudo maiusculo com o método .upper()\n",
        "\n",
        "verdade = nome + qualidade\n",
        "verdade = verdade.upper()\n",
        "print(verdade)"
      ]
    },
    {
      "cell_type": "code",
      "execution_count": null,
      "metadata": {
        "id": "5afq8dSyfmiq"
      },
      "outputs": [],
      "source": [
        "# Podemos deixar minusculo com o método .lower()\n",
        "\n",
        "verdade = verdade.lower()\n",
        "print(verdade)"
      ]
    },
    {
      "cell_type": "code",
      "execution_count": null,
      "metadata": {
        "id": "L-v9YWTPfmis"
      },
      "outputs": [],
      "source": [
        "# Com um tecnica chamada slicing podemos selecionar só uma parte\n",
        "\n",
        "verdade[4:18]"
      ]
    },
    {
      "cell_type": "markdown",
      "metadata": {
        "id": "fSUXxm9Qfmiu"
      },
      "source": [
        "Observe que ele pega do 5º elemento até o 17º ja que ele conta o 'f' como elemento zero"
      ]
    },
    {
      "cell_type": "code",
      "execution_count": null,
      "metadata": {
        "id": "yHc0DUT_fmiv"
      },
      "outputs": [],
      "source": [
        "print(verdade)\n",
        "print(verdade[5])"
      ]
    },
    {
      "cell_type": "code",
      "execution_count": null,
      "metadata": {
        "id": "NRaEtQrDfmiv"
      },
      "outputs": [],
      "source": [
        "# Um outro método é o .split()\n",
        "\n",
        "verdade.split()"
      ]
    },
    {
      "cell_type": "markdown",
      "metadata": {
        "id": "RmjLPtyTfmiw"
      },
      "source": [
        "Ele transforma a string em uma lista de strings, sendo o espaço o divisor delas"
      ]
    },
    {
      "cell_type": "code",
      "execution_count": null,
      "metadata": {
        "id": "veE8MucJfmjB"
      },
      "outputs": [],
      "source": [
        "type(verdade.split())"
      ]
    },
    {
      "cell_type": "markdown",
      "metadata": {
        "id": "tTbnQ5zMfmjD"
      },
      "source": [
        "### Listas\n",
        "\n",
        "Em Python as listas são representadas por colchetes [ ]. Elas são dinâmicas, ou seja, não possuem tamanho fixo, você pode adicionar e remover elementos da sua lista como quiser. E pododemos colocar qualquer tipo de dado, inclusive tendo dados de tipos diferentes na mesma lista."
      ]
    },
    {
      "cell_type": "code",
      "execution_count": null,
      "metadata": {
        "id": "GkaqWUo0fmjE"
      },
      "outputs": [],
      "source": [
        "# Definindo tipo List\n",
        "\n",
        "lista = [\"FEA.dev\", 10, \"Oie\", 7.5]\n",
        "print(lista)"
      ]
    },
    {
      "cell_type": "markdown",
      "metadata": {
        "id": "oxl3bekWfmjF"
      },
      "source": [
        "Podemos acessar individualmente o elemento de uma lista, mostrando o index do elemento desejado, sabendo que o elemento na primeira posição da lista, tem index 0.\n",
        "\n",
        "| Lista | \"FEA.dev\"  | 10 | \"Oie\" | 7.5  | \n",
        "|:---:|:---:|:---:|:---:|:---:|\n",
        "| Index | 0 | 1 | 2 | 3 |\n"
      ]
    },
    {
      "cell_type": "code",
      "execution_count": null,
      "metadata": {
        "id": "pEZOZwq4fmjh"
      },
      "outputs": [],
      "source": [
        "# Acessando um elemento \n",
        "\n",
        "elmt = lista[3]\n",
        "print(elmt)"
      ]
    },
    {
      "cell_type": "code",
      "execution_count": null,
      "metadata": {
        "id": "7sUpIpzHfmjp"
      },
      "outputs": [],
      "source": [
        "# Podemos fazer operações com esses elementos\n",
        "\n",
        "notas = [9.7 , 5 , 6.5 , 7 , 8 , 8.5] # Lista com notas\n",
        "\n",
        "media = notas[0] + notas[1] + notas[2] + notas[3] + notas[4] + notas[5]\n",
        "\n",
        "print(media)\n",
        "\n",
        "media = media / 6\n",
        "\n",
        "print(media)"
      ]
    },
    {
      "cell_type": "code",
      "execution_count": null,
      "metadata": {
        "id": "wt1c28Tsfmjq"
      },
      "outputs": [],
      "source": [
        "5 + \"6\""
      ]
    },
    {
      "cell_type": "markdown",
      "metadata": {
        "id": "KzcvfR0efmjs"
      },
      "source": [
        "Existem funções com listas que podemos usar para facilitar nossa programação:\n",
        "\n",
        "- sum(list) - Vai te dar a soma de todos elementos da lista (eles devem ser int ou float, pois não podemos somar tipo númerico com tipo string)\n",
        "- len(list) - Vai te dar o tamanho da lista, ou seja a quantidade de elementos\n",
        "- max(list) - Vai te dar o maior elemento da lista\n",
        "- min(list) - Vai te dar o menor elemento da lista"
      ]
    },
    {
      "cell_type": "code",
      "execution_count": null,
      "metadata": {
        "id": "NGUF6gpKfmjt"
      },
      "outputs": [],
      "source": [
        "# Podemos calcular a média mais facilmente\n",
        "\n",
        "notas = [9.7 , 5 , 6.5 , 7 , 8 , 8.5]\n",
        "\n",
        "media = sum(notas) / len(notas)\n",
        "\n",
        "print(media)"
      ]
    },
    {
      "cell_type": "code",
      "execution_count": null,
      "metadata": {
        "id": "NgaWDtR0fmjv"
      },
      "outputs": [],
      "source": [
        "# Ver a diferença entre a maior e menor nota\n",
        "\n",
        "print(f'Amplitude = {max(notas) - min(notas)}')"
      ]
    },
    {
      "cell_type": "markdown",
      "metadata": {
        "id": "ZOuCqqy3fmjv"
      },
      "source": [
        "E como em strings temos metódos para listas:\n",
        "\n",
        "- list.sort() - Vai ordenar a lista, funciona tanto para string quanto para números\n",
        "- list.append(novo_elemento) - Vai adicionar um novo elemento no final da lista (metódo mais usado em listas)\n",
        "- list.pop() - Removo o último elemento da lista\n",
        "- list.index(elemento) - Você coloca um elemento que está na lista, ele devolve seu index"
      ]
    },
    {
      "cell_type": "code",
      "execution_count": null,
      "metadata": {
        "id": "7csYAbUXfmjw"
      },
      "outputs": [],
      "source": [
        "# Organizando notas\n",
        "\n",
        "notas = [9.7 , 5 , 6.5 , 7 , 8 , 8.5]\n",
        "notas.sort()\n",
        "print(notas)"
      ]
    },
    {
      "cell_type": "code",
      "execution_count": null,
      "metadata": {
        "id": "cBkefLQJfmjy"
      },
      "outputs": [],
      "source": [
        "# Adicionando uma nova nota\n",
        "\n",
        "notas.append(\"7.5\")\n",
        "print(notas)"
      ]
    },
    {
      "cell_type": "code",
      "execution_count": null,
      "metadata": {
        "id": "o-uG_yvVfmjz"
      },
      "outputs": [],
      "source": [
        "# Observe que adicionamos 'acidentalmente' uma string, vamos remover\n",
        "\n",
        "notas.pop()\n",
        "print(notas)"
      ]
    },
    {
      "cell_type": "code",
      "execution_count": null,
      "metadata": {
        "id": "ZvaxvBG1fmj1"
      },
      "outputs": [],
      "source": [
        "# Vamos adcionar a nota 7.5 e organizar a lista e descobrir seu index\n",
        "\n",
        "notas.append(7.5)\n",
        "print(notas)\n",
        "notas.sort()\n",
        "print(notas)\n",
        "lugar = notas.index(7.5)\n",
        "\n",
        "print(lugar)\n",
        "print(notas)"
      ]
    },
    {
      "cell_type": "markdown",
      "metadata": {
        "id": "VjXpVt2kfmj2"
      },
      "source": [
        "### Tuplas\n",
        "\n",
        "É definido de forma similar as listas, porém com parênteses ( ). A principal diferença é que tuplas são imutáveis ou seja ela não muda, não existe troca de elementos dentro dela. "
      ]
    },
    {
      "cell_type": "code",
      "execution_count": null,
      "metadata": {
        "id": "PsXQ7w6nfmj3"
      },
      "outputs": [],
      "source": [
        "# Definindo tipo tuple\n",
        "\n",
        "tupla = (10, 'FEA', 7.5)\n",
        "type(tupla)"
      ]
    },
    {
      "cell_type": "markdown",
      "metadata": {
        "id": "SEN6WPO9fmj5"
      },
      "source": [
        "O acesso é feito igual o da lista, o index começa do zero e usamos colchetes [ ]"
      ]
    },
    {
      "cell_type": "code",
      "execution_count": null,
      "metadata": {
        "id": "yB-KASevfmj6"
      },
      "outputs": [],
      "source": [
        "# Acessando o elemento de index 2\n",
        "\n",
        "tupla[2]"
      ]
    },
    {
      "cell_type": "markdown",
      "metadata": {
        "id": "T5cBwQkDfmj8"
      },
      "source": [
        "As funções de soma, tamanho, máximo e mínimo que mostramos para listas, funcionam com tuplas\n"
      ]
    },
    {
      "cell_type": "code",
      "execution_count": null,
      "metadata": {
        "id": "J8G3SIlwfmj9"
      },
      "outputs": [],
      "source": [
        "# Funções com Tuplas\n",
        "\n",
        "notas_tupla = (5, 6.5, 7, 8, 8.5, 9.7, 7.5)\n",
        "print(f\"Máximo = {max(notas_tupla)}\")\n",
        "print(f\"Mínimo = {min(notas_tupla)}\")\n",
        "print(f\"Soma = {sum(notas_tupla)}\")\n",
        "print(f\"Tamanho = {len(notas_tupla)}\")"
      ]
    },
    {
      "cell_type": "markdown",
      "metadata": {
        "id": "yfd99GJefmj-"
      },
      "source": [
        "Porém como a tupla é imutável, não podemos adicionar e mudar elementos"
      ]
    },
    {
      "cell_type": "code",
      "execution_count": null,
      "metadata": {
        "id": "v0eRnItLfmj_"
      },
      "outputs": [],
      "source": [
        "# Erro tentando alterar tupla\n",
        "\n",
        "notas_tupla.append(7)"
      ]
    },
    {
      "cell_type": "markdown",
      "metadata": {
        "id": "WoS7GJoAfmki"
      },
      "source": [
        "### Dicionários \n",
        "\n",
        "O Dicionário é uma estrutura um pouco mais complexa que listas e tuplas, ele é do tipo Chave : Valor. Não tem index, os valores são acessados pelas chaves. Dicionários são definido por chaves { }. "
      ]
    },
    {
      "cell_type": "code",
      "execution_count": null,
      "metadata": {
        "id": "_uGkuUu3fmkj"
      },
      "outputs": [],
      "source": [
        "# Definindo tipo dict\n",
        "\n",
        "dicionario = { 1 : \"FEA.dev\", \"a\" : 10, 14 : 7.5}\n",
        "type(dicionario)"
      ]
    },
    {
      "cell_type": "markdown",
      "metadata": {
        "id": "YCiTeS8rfmkl"
      },
      "source": [
        "Voce pode observar que temos 3 elementos no dicionário acima pensando em (Chave : Valor), como um único elemento, observe que tanto chave quanto valor pode ser qualquer tipo de elemento\n",
        "\n",
        "| Chave | 1  | \"a\" | 14 | \n",
        "|:---:|:---:|:---:|:---:|\n",
        "| Valor | \"FEA.dev\" | 10 | 7.5 | \n",
        "\n",
        "Assim dicionario não tem index:"
      ]
    },
    {
      "cell_type": "code",
      "execution_count": null,
      "metadata": {
        "scrolled": true,
        "id": "UqN4bR1ifmkm"
      },
      "outputs": [],
      "source": [
        "# Erro ao tentar achar o elemento de indice 0\n",
        "\n",
        "dicionario[0]"
      ]
    },
    {
      "cell_type": "code",
      "execution_count": null,
      "metadata": {
        "id": "l83PlaEGfmkn"
      },
      "outputs": [],
      "source": [
        "# Usamos % para obter o resto de uma divisão\n",
        "\n",
        "dicionario[1]"
      ]
    },
    {
      "cell_type": "code",
      "execution_count": null,
      "metadata": {
        "id": "3TTfE082fmko"
      },
      "outputs": [],
      "source": [
        "# Segundo elemento\n",
        "\n",
        "dicionario[\"a\"]"
      ]
    },
    {
      "cell_type": "markdown",
      "metadata": {
        "id": "n3_CqTSqfmko"
      },
      "source": [
        "Para criar um novo elemento basta criar uma nova Chave : Valor, parecido com quando criamos uma variável:"
      ]
    },
    {
      "cell_type": "code",
      "execution_count": null,
      "metadata": {
        "id": "bqjxLTJyfmky"
      },
      "outputs": [],
      "source": [
        "# Criando novo elemento\n",
        "\n",
        "dicionario[\"Novo\"] = 2021\n",
        "print(dicionario)"
      ]
    },
    {
      "cell_type": "markdown",
      "metadata": {
        "id": "0FlDSJExfmkz"
      },
      "source": [
        "Com a mesma lógica podemos subistituir um elemento usando uma chave já existente:"
      ]
    },
    {
      "cell_type": "code",
      "execution_count": null,
      "metadata": {
        "id": "8eeBTQ8gfmk0"
      },
      "outputs": [],
      "source": [
        "# Substituindo elemento\n",
        "\n",
        "dicionario[\"a\"] = \"Oie\"\n",
        "print(dicionario)"
      ]
    },
    {
      "cell_type": "code",
      "execution_count": null,
      "metadata": {
        "id": "m9UZXvBJfmk1"
      },
      "outputs": [],
      "source": []
    }
  ],
  "metadata": {
    "kernelspec": {
      "display_name": "Python 3",
      "language": "python",
      "name": "python3"
    },
    "language_info": {
      "codemirror_mode": {
        "name": "ipython",
        "version": 3
      },
      "file_extension": ".py",
      "mimetype": "text/x-python",
      "name": "python",
      "nbconvert_exporter": "python",
      "pygments_lexer": "ipython3",
      "version": "3.8.5"
    },
    "colab": {
      "provenance": []
    }
  },
  "nbformat": 4,
  "nbformat_minor": 0
}
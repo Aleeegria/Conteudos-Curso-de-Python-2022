{
  "cells": [
    {
      "cell_type": "markdown",
      "id": "47fe342e",
      "metadata": {
        "id": "47fe342e"
      },
      "source": [
        "# <font color=blue>**Pandas II - Aplicações na Vida Real - FEA.dev**</font>"
      ]
    },
    {
      "cell_type": "markdown",
      "id": "beb3a445",
      "metadata": {
        "id": "beb3a445"
      },
      "source": [
        "Após a aula introdutória de Pandas vamos nos aprofundar mais em algumas funcionalidades da biblioteca."
      ]
    },
    {
      "cell_type": "markdown",
      "id": "m1q9KlHXJiSL",
      "metadata": {
        "id": "m1q9KlHXJiSL"
      },
      "source": [
        "# <font color=blue>Sumário</font>"
      ]
    },
    {
      "cell_type": "markdown",
      "id": "nQPaI0FWCGw5",
      "metadata": {
        "id": "nQPaI0FWCGw5"
      },
      "source": [
        "- ### 1. Introdução\n",
        "        \n",
        "        1.1 Apresentação das bases de dados\n",
        "        1.2 Loc e iloc\n",
        "\n",
        "- ### 2. Métodos Úteis\n",
        "        \n",
        "        2.1 Agrupamento\n",
        "        2.1.1 Groupby\n",
        "        2.1.2 Pivot Table\n",
        "        2.1.3 Melt\n",
        "        \n",
        "        2.2.1 Diff\n",
        "        2.2.2 Pct_change\n",
        "\n",
        "- ### 3. Aplicações úteis\n",
        "\n",
        "        3.1 Cálculo de retorno\n",
        "        3.2 Melhores retornos para cada fundos\n",
        "        3.3 Juntando os Resultados"
      ]
    },
    {
      "cell_type": "code",
      "execution_count": null,
      "id": "15b605b0",
      "metadata": {
        "id": "15b605b0"
      },
      "outputs": [],
      "source": [
        "import numpy as np\n",
        "import pandas as pd\n",
        "import matplotlib.pyplot as plt\n",
        "from sklearn.linear_model import LinearRegression"
      ]
    },
    {
      "cell_type": "markdown",
      "id": "4ed9da01",
      "metadata": {
        "id": "4ed9da01"
      },
      "source": [
        "## 1. Introdução"
      ]
    },
    {
      "cell_type": "markdown",
      "id": "2a2a6862",
      "metadata": {
        "id": "2a2a6862"
      },
      "source": [
        "### 1.1 Apresentação das bases de dados"
      ]
    },
    {
      "cell_type": "code",
      "execution_count": null,
      "id": "3cf2701a",
      "metadata": {
        "id": "3cf2701a"
      },
      "outputs": [],
      "source": [
        "ct = pd.read_csv(\"carteiras.csv\", parse_dates=[\"data\"])\n",
        "at = pd.read_csv(\"ativos.csv\", index_col=0, parse_dates=True)"
      ]
    },
    {
      "cell_type": "code",
      "execution_count": null,
      "id": "cb4d74bf",
      "metadata": {
        "id": "cb4d74bf"
      },
      "outputs": [],
      "source": [
        "ct.info()"
      ]
    },
    {
      "cell_type": "code",
      "execution_count": null,
      "id": "f0cf5e1a",
      "metadata": {
        "id": "f0cf5e1a"
      },
      "outputs": [],
      "source": [
        "ct.describe()"
      ]
    },
    {
      "cell_type": "code",
      "execution_count": null,
      "id": "d8be73b2",
      "metadata": {
        "id": "d8be73b2"
      },
      "outputs": [],
      "source": [
        "ct.head()"
      ]
    },
    {
      "cell_type": "code",
      "execution_count": null,
      "id": "aea5743e",
      "metadata": {
        "id": "aea5743e"
      },
      "outputs": [],
      "source": [
        "at.info()"
      ]
    },
    {
      "cell_type": "code",
      "execution_count": null,
      "id": "168f18c7",
      "metadata": {
        "id": "168f18c7"
      },
      "outputs": [],
      "source": [
        "at.describe()"
      ]
    },
    {
      "cell_type": "code",
      "execution_count": null,
      "id": "272d098b",
      "metadata": {
        "id": "272d098b"
      },
      "outputs": [],
      "source": [
        "at.head()"
      ]
    },
    {
      "cell_type": "markdown",
      "id": "b5ac4ffa",
      "metadata": {
        "id": "b5ac4ffa"
      },
      "source": [
        "### Loc e iloc"
      ]
    },
    {
      "cell_type": "code",
      "execution_count": null,
      "id": "7312eb5c",
      "metadata": {
        "id": "7312eb5c"
      },
      "outputs": [],
      "source": [
        "dv = pd.read_csv(\"dados_devers.csv\", sep=\";\",\n",
        "                 usecols=range(4),\n",
        "                 index_col=0)"
      ]
    },
    {
      "cell_type": "code",
      "execution_count": null,
      "id": "67f02a21",
      "metadata": {
        "id": "67f02a21"
      },
      "outputs": [],
      "source": [
        "dv.head()"
      ]
    },
    {
      "cell_type": "code",
      "execution_count": null,
      "id": "580ce3a1",
      "metadata": {
        "id": "580ce3a1"
      },
      "outputs": [],
      "source": [
        "dv.loc[\"Eddy\"]"
      ]
    },
    {
      "cell_type": "code",
      "execution_count": null,
      "id": "34d76ce9",
      "metadata": {
        "id": "34d76ce9"
      },
      "outputs": [],
      "source": [
        "dv.loc[\"Bailinho\"]"
      ]
    },
    {
      "cell_type": "code",
      "execution_count": null,
      "id": "27b34998",
      "metadata": {
        "id": "27b34998"
      },
      "outputs": [],
      "source": [
        "dv.loc[[\"Eddy\", \"André\"]]"
      ]
    },
    {
      "cell_type": "code",
      "execution_count": null,
      "id": "88e93ed4",
      "metadata": {
        "id": "88e93ed4"
      },
      "outputs": [],
      "source": [
        "dv.loc[[\"Eddy\", \"Thais\"], [\"Geração\", \"Cursos 2022\"]]"
      ]
    },
    {
      "cell_type": "code",
      "execution_count": null,
      "id": "afa60607",
      "metadata": {
        "id": "afa60607"
      },
      "outputs": [],
      "source": [
        "dv.loc[[\"Eddy\", \"Thais\"], \"Cursos 2022\":]"
      ]
    },
    {
      "cell_type": "code",
      "execution_count": null,
      "id": "9cb2ae3f",
      "metadata": {
        "id": "9cb2ae3f"
      },
      "outputs": [],
      "source": [
        "# cells\n",
        "dv.iloc[0]"
      ]
    },
    {
      "cell_type": "code",
      "execution_count": null,
      "id": "a06debe8",
      "metadata": {
        "id": "a06debe8"
      },
      "outputs": [],
      "source": [
        "dv.iloc[0].name"
      ]
    },
    {
      "cell_type": "code",
      "execution_count": null,
      "id": "0ad563fc",
      "metadata": {
        "id": "0ad563fc"
      },
      "outputs": [],
      "source": [
        "dv.iloc[range(2), range(1)]"
      ]
    },
    {
      "cell_type": "code",
      "execution_count": null,
      "id": "e4102919",
      "metadata": {
        "id": "e4102919"
      },
      "outputs": [],
      "source": [
        "dv.iloc[[9, 5, 6]]"
      ]
    },
    {
      "cell_type": "code",
      "execution_count": null,
      "id": "4703f20a",
      "metadata": {
        "id": "4703f20a"
      },
      "outputs": [],
      "source": [
        "del dv"
      ]
    },
    {
      "cell_type": "code",
      "execution_count": null,
      "id": "8c416256",
      "metadata": {
        "id": "8c416256"
      },
      "outputs": [],
      "source": [
        "at.head()"
      ]
    },
    {
      "cell_type": "code",
      "execution_count": null,
      "id": "863c5d8a",
      "metadata": {
        "id": "863c5d8a"
      },
      "outputs": [],
      "source": [
        "at.loc[\"2022-01-10\":, :]"
      ]
    },
    {
      "cell_type": "markdown",
      "id": "dbc458ea",
      "metadata": {
        "id": "dbc458ea"
      },
      "source": [
        "### Retorno a apresentação das bases"
      ]
    },
    {
      "cell_type": "code",
      "execution_count": null,
      "id": "53a8c393",
      "metadata": {
        "id": "53a8c393"
      },
      "outputs": [],
      "source": [
        "# unique\n",
        "ct['ativo'].unique()"
      ]
    },
    {
      "cell_type": "code",
      "execution_count": null,
      "id": "19b9e9dd",
      "metadata": {
        "id": "19b9e9dd"
      },
      "outputs": [],
      "source": [
        "ct['ativo'].unique()[0]"
      ]
    },
    {
      "cell_type": "code",
      "execution_count": null,
      "id": "744d252e",
      "metadata": {
        "id": "744d252e"
      },
      "outputs": [],
      "source": [
        "print(len(ct[\"ativo\"].unique()), \"vs\", len(at.columns))\n",
        "print(ct[\"ativo\"].unique()[0])"
      ]
    },
    {
      "cell_type": "markdown",
      "id": "4e65c93c",
      "metadata": {
        "id": "4e65c93c"
      },
      "source": [
        "#### Set Theory\n",
        "![set_theory](set_theory.png)\n",
        "![set_theory_ativos](set_theory_ativos.png)"
      ]
    },
    {
      "cell_type": "code",
      "execution_count": null,
      "id": "b994d0f9",
      "metadata": {
        "id": "b994d0f9"
      },
      "outputs": [],
      "source": [
        "# sets https://www.w3schools.com/python/python_ref_set.asp\n",
        "x = {'Petrobras', 'Itau', 'Suzano'}\n",
        "y = {'Eletrobras', 'Bradesco', 'Suzano'}\n",
        "\n",
        "z = x.difference(y)\n",
        "z"
      ]
    },
    {
      "cell_type": "code",
      "execution_count": null,
      "id": "366a257a",
      "metadata": {
        "id": "366a257a"
      },
      "outputs": [],
      "source": [
        "y.difference(x)"
      ]
    },
    {
      "cell_type": "code",
      "execution_count": null,
      "id": "9047715e",
      "metadata": {
        "id": "9047715e"
      },
      "outputs": [],
      "source": [
        "x.symmetric_difference(y)"
      ]
    },
    {
      "cell_type": "code",
      "execution_count": null,
      "id": "847833ca",
      "metadata": {
        "id": "847833ca"
      },
      "outputs": [],
      "source": [
        "x.intersection(y)"
      ]
    },
    {
      "cell_type": "code",
      "execution_count": null,
      "id": "6579397b",
      "metadata": {
        "id": "6579397b"
      },
      "outputs": [],
      "source": [
        "# acessar colunas do dataframe de ativos\n",
        "at.columns"
      ]
    },
    {
      "cell_type": "code",
      "execution_count": null,
      "id": "b04e2298",
      "metadata": {
        "id": "b04e2298"
      },
      "outputs": [],
      "source": [
        "set(at.columns.unique()).difference(ct[\"ativo\"].unique())"
      ]
    },
    {
      "cell_type": "code",
      "execution_count": null,
      "id": "c2579e34",
      "metadata": {
        "id": "c2579e34"
      },
      "outputs": [],
      "source": [
        "set(ct[\"ativo\"].unique()).difference(at.columns.unique())"
      ]
    },
    {
      "cell_type": "code",
      "execution_count": null,
      "id": "479051f5",
      "metadata": {
        "id": "479051f5"
      },
      "outputs": [],
      "source": [
        "ct.loc[ct[\"ativo\"].isin(at.columns), [\"ativo\", \"ativo_desc\"]].drop_duplicates()"
      ]
    },
    {
      "cell_type": "code",
      "execution_count": null,
      "id": "81517c7b",
      "metadata": {
        "id": "81517c7b"
      },
      "outputs": [],
      "source": [
        "ct.loc[ct[\"ativo\"].isin(at.columns), \"ativo_desc\"].unique()"
      ]
    },
    {
      "cell_type": "code",
      "execution_count": null,
      "id": "ffa456fa",
      "metadata": {
        "id": "ffa456fa"
      },
      "outputs": [],
      "source": [
        "pd.set_option('max_colwidth', None)\n",
        "ct[[\"nome_gestor\", \"nome_fundo\"]].drop_duplicates().reset_index(drop=True)"
      ]
    },
    {
      "cell_type": "code",
      "execution_count": null,
      "id": "95d76a97",
      "metadata": {
        "id": "95d76a97"
      },
      "outputs": [],
      "source": [
        "pd.reset_option('^display.', silent=True)"
      ]
    },
    {
      "cell_type": "markdown",
      "id": "b45dd4f6",
      "metadata": {
        "id": "b45dd4f6"
      },
      "source": [
        "## 2. Métodos Úteis"
      ]
    },
    {
      "cell_type": "markdown",
      "id": "5c4911fe",
      "metadata": {
        "id": "5c4911fe"
      },
      "source": [
        "### 2.1.1 Groupby"
      ]
    },
    {
      "cell_type": "code",
      "execution_count": null,
      "id": "1c7b6f8c",
      "metadata": {
        "id": "1c7b6f8c"
      },
      "outputs": [],
      "source": [
        "ct.groupby(\"nome_fundo\").nunique()[[\"ativo\"]]"
      ]
    },
    {
      "cell_type": "code",
      "execution_count": null,
      "id": "fe2417ff",
      "metadata": {
        "id": "fe2417ff"
      },
      "outputs": [],
      "source": [
        "ct[[\"nome_fundo\", \"data\", \"ativo\"]].groupby([\"nome_fundo\", \"data\"]).count()"
      ]
    },
    {
      "cell_type": "markdown",
      "id": "ee7a408b",
      "metadata": {
        "id": "ee7a408b"
      },
      "source": [
        "### 2.1.2 Pivot Table"
      ]
    },
    {
      "cell_type": "code",
      "execution_count": null,
      "id": "db3de74e",
      "metadata": {
        "id": "db3de74e"
      },
      "outputs": [],
      "source": [
        "ct.pivot_table(\"ativo_desc\", index=\"nome_fundo\", columns=\"data\", aggfunc=lambda x: len(x.unique()))"
      ]
    },
    {
      "cell_type": "code",
      "execution_count": null,
      "id": "66a4ed11",
      "metadata": {
        "id": "66a4ed11"
      },
      "outputs": [],
      "source": [
        "ct.pivot_table(\"ativo\", index=\"nome_fundo\", columns=\"data\", aggfunc=lambda x: len(x.unique()))"
      ]
    },
    {
      "cell_type": "code",
      "execution_count": null,
      "id": "6162ae5b",
      "metadata": {
        "id": "6162ae5b"
      },
      "outputs": [],
      "source": [
        "pivoted_table = ct.pivot_table(\"ativo\", index=\"nome_fundo\", columns=\"data\", aggfunc=\"count\")\n",
        "pivoted_table"
      ]
    },
    {
      "cell_type": "markdown",
      "id": "0f2e7f37",
      "metadata": {
        "id": "0f2e7f37"
      },
      "source": [
        "### 2.1.3 Melt"
      ]
    },
    {
      "cell_type": "code",
      "execution_count": null,
      "id": "e018ecb4",
      "metadata": {
        "id": "e018ecb4"
      },
      "outputs": [],
      "source": [
        "pivoted_table.melt(ignore_index=False).head(6)"
      ]
    },
    {
      "cell_type": "markdown",
      "id": "c6e47787",
      "metadata": {
        "id": "c6e47787"
      },
      "source": [
        "### 2.2.1 Diff"
      ]
    },
    {
      "cell_type": "code",
      "execution_count": null,
      "id": "0a69469d",
      "metadata": {
        "id": "0a69469d"
      },
      "outputs": [],
      "source": [
        "np.random.seed(420)\n",
        "rand_series = np.random.rand(100)\n",
        "plt.plot(np.arange(100), rand_series)"
      ]
    },
    {
      "cell_type": "code",
      "execution_count": null,
      "id": "15e863bc",
      "metadata": {
        "id": "15e863bc"
      },
      "outputs": [],
      "source": [
        "x = np.arange(100).reshape(-1, 1)\n",
        "y_tendencia = (rand_series * np.arange(1, 20, .19)).reshape(-1, 1)\n",
        "pred = LinearRegression().fit(x, y_tendencia).predict(x)"
      ]
    },
    {
      "cell_type": "code",
      "execution_count": null,
      "id": "0c05f881",
      "metadata": {
        "id": "0c05f881"
      },
      "outputs": [],
      "source": [
        "fix, ax = plt.subplots()\n",
        "ax.plot(x, y_tendencia)\n",
        "ax.plot(pred)\n",
        "plt.show()"
      ]
    },
    {
      "cell_type": "code",
      "execution_count": null,
      "id": "1d078539",
      "metadata": {
        "id": "1d078539"
      },
      "outputs": [],
      "source": [
        "y = pd.Series(y_tendencia.flatten()).diff()\n",
        "pred = LinearRegression().fit(x, y.fillna(0)).predict(x)\n",
        "\n",
        "fig, ax = plt.subplots()\n",
        "# função plot do pandas\n",
        "y.diff().plot()\n",
        "ax.plot(pred)\n",
        "plt.show()"
      ]
    },
    {
      "cell_type": "markdown",
      "id": "2d27562a",
      "metadata": {
        "id": "2d27562a"
      },
      "source": [
        "### 2.2.2 Pct_change"
      ]
    },
    {
      "cell_type": "code",
      "execution_count": null,
      "id": "fd721e77",
      "metadata": {
        "id": "fd721e77"
      },
      "outputs": [],
      "source": [
        "((at - at.shift(1)) / at).head()"
      ]
    },
    {
      "cell_type": "code",
      "execution_count": null,
      "id": "1075058f",
      "metadata": {
        "id": "1075058f"
      },
      "outputs": [],
      "source": [
        "(at.diff() / at).head()"
      ]
    },
    {
      "cell_type": "code",
      "execution_count": null,
      "id": "de5ec88b",
      "metadata": {
        "id": "de5ec88b"
      },
      "outputs": [],
      "source": [
        "at.pct_change().head()"
      ]
    },
    {
      "cell_type": "code",
      "execution_count": null,
      "id": "f48d7fc1",
      "metadata": {
        "id": "f48d7fc1"
      },
      "outputs": [],
      "source": [
        "at.pct_change().iloc[1:]"
      ]
    },
    {
      "cell_type": "code",
      "execution_count": null,
      "id": "f1ca627e",
      "metadata": {
        "id": "f1ca627e"
      },
      "outputs": [],
      "source": [
        "filling_first = at.pct_change()"
      ]
    },
    {
      "cell_type": "code",
      "execution_count": null,
      "id": "3a647b5a",
      "metadata": {
        "id": "3a647b5a"
      },
      "outputs": [],
      "source": [
        "filling_first.iloc[0] = 0"
      ]
    },
    {
      "cell_type": "code",
      "execution_count": null,
      "id": "9a4cfd76",
      "metadata": {
        "id": "9a4cfd76"
      },
      "outputs": [],
      "source": [
        "filling_first.head()"
      ]
    },
    {
      "cell_type": "markdown",
      "id": "baee0d32",
      "metadata": {
        "id": "baee0d32"
      },
      "source": [
        "## 3. Aplicações Úteis"
      ]
    },
    {
      "cell_type": "markdown",
      "id": "4251cb57",
      "metadata": {
        "id": "4251cb57"
      },
      "source": [
        "### 3.1 Cálculo de Retorno"
      ]
    },
    {
      "cell_type": "code",
      "execution_count": null,
      "id": "6af1c9c3",
      "metadata": {
        "id": "6af1c9c3"
      },
      "outputs": [],
      "source": [
        "((at.pct_change() + 1).prod() - 1).sort_values(ascending=False)[:5]"
      ]
    },
    {
      "cell_type": "code",
      "execution_count": null,
      "id": "bbaae832",
      "metadata": {
        "id": "bbaae832"
      },
      "outputs": [],
      "source": [
        "((at.pct_change() + 1).prod() - 1)[:3]"
      ]
    },
    {
      "cell_type": "code",
      "execution_count": null,
      "id": "cdd7cb50",
      "metadata": {
        "id": "cdd7cb50"
      },
      "outputs": [],
      "source": [
        "top_10_geral = ((at.pct_change() + 1).prod() - 1).sort_values(ascending=False)[:10]"
      ]
    },
    {
      "cell_type": "markdown",
      "id": "0a26a577",
      "metadata": {
        "id": "0a26a577"
      },
      "source": [
        "### 3.2 Cálculo Para Cada Fundo"
      ]
    },
    {
      "cell_type": "code",
      "execution_count": null,
      "id": "0ffe2fa5",
      "metadata": {
        "id": "0ffe2fa5"
      },
      "outputs": [],
      "source": [
        "ativos_tarkus = (ct.loc[ct[\"ativo\"].isin(at.columns) &\n",
        "                        (ct[\"nome_fundo\"]==\"KAPITALO TARKUS MÁSTER FUNDO DE INVESTIMENTO EM AÇÕES\"),\n",
        "                        \"ativo\"]\n",
        "                   .unique()\n",
        ")\n",
        "ativos_t3 = (ct[\"ativo\"][ct[\"ativo\"].isin(at.columns) &\n",
        "                         (ct[\"nome_fundo\"]==\"T3 FUNDO DE INVESTIMENTO MULTIMERCADO CRÉDITO PRIVADO LONG BIASED\")]\n",
        "                   .unique()\n",
        ")"
      ]
    },
    {
      "cell_type": "code",
      "execution_count": null,
      "id": "a1eeb515",
      "metadata": {
        "id": "a1eeb515"
      },
      "outputs": [],
      "source": [
        "top_10_tarkus = ((at[ativos_tarkus].pct_change() + 1).prod() - 1).sort_values(ascending=False)[:10]\n",
        "top_10_t3 = ((at[ativos_t3].pct_change() + 1).prod() - 1).sort_values(ascending=False)[:10]"
      ]
    },
    {
      "cell_type": "markdown",
      "id": "f092bb74",
      "metadata": {
        "id": "f092bb74"
      },
      "source": [
        "### 3.3 Juntando os Resultados"
      ]
    },
    {
      "cell_type": "code",
      "execution_count": null,
      "id": "8f6da9bb",
      "metadata": {
        "id": "8f6da9bb"
      },
      "outputs": [],
      "source": [
        "pd.concat([top_10_geral.rename(\"Geral\"),\n",
        "           top_10_tarkus.rename(\"Kapitalo Tarkus\"),\n",
        "           top_10_t3.rename(\"Tower Three Long Biased\")], axis=1)"
      ]
    },
    {
      "cell_type": "markdown",
      "id": "f6e02ea2",
      "metadata": {
        "id": "f6e02ea2"
      },
      "source": [
        "![](joins.png)"
      ]
    },
    {
      "cell_type": "code",
      "execution_count": null,
      "id": "76926ffd",
      "metadata": {
        "id": "76926ffd"
      },
      "outputs": [],
      "source": [
        "(pd.DataFrame(top_10_geral.rename(\"Geral\"))\n",
        "   .merge(top_10_tarkus.rename(\"Tarkus\"),\n",
        "          left_index=True,\n",
        "          right_index=True,\n",
        "          how=\"outer\")\n",
        "   .merge(top_10_t3.rename(\"Tower Three Long Biased\"),\n",
        "          left_index=True,\n",
        "          right_index=True,\n",
        "          how=\"outer\")\n",
        ").sort_values(\"Geral\", ascending=False)"
      ]
    },
    {
      "cell_type": "code",
      "execution_count": null,
      "id": "96a588f7",
      "metadata": {
        "id": "96a588f7"
      },
      "outputs": [],
      "source": [
        "(pd.DataFrame(top_10_geral.rename(\"Geral\"))\n",
        "   .join(top_10_tarkus.rename(\"Tarkus\"),\n",
        "          how=\"outer\")\n",
        "   .join(top_10_t3.rename(\"Tower Three Long Biased\"),\n",
        "          how=\"outer\")\n",
        ").sort_values(\"Geral\", ascending=False)"
      ]
    },
    {
      "cell_type": "markdown",
      "source": [
        "#### **Bônus:** Vídeo sobre cálculo de retornos FEA.dev\n",
        "\n",
        "https://www.youtube.com/watch?v=8FjerLRybkg&t=5s"
      ],
      "metadata": {
        "id": "_Ml0izC4vbpo"
      },
      "id": "_Ml0izC4vbpo"
    },
    {
      "cell_type": "code",
      "source": [],
      "metadata": {
        "id": "PBXGQa2pvnPL"
      },
      "id": "PBXGQa2pvnPL",
      "execution_count": null,
      "outputs": []
    }
  ],
  "metadata": {
    "colab": {
      "collapsed_sections": [],
      "provenance": []
    },
    "kernelspec": {
      "display_name": "Python 3 (ipykernel)",
      "language": "python",
      "name": "python3"
    },
    "language_info": {
      "codemirror_mode": {
        "name": "ipython",
        "version": 3
      },
      "file_extension": ".py",
      "mimetype": "text/x-python",
      "name": "python",
      "nbconvert_exporter": "python",
      "pygments_lexer": "ipython3",
      "version": "3.10.2"
    }
  },
  "nbformat": 4,
  "nbformat_minor": 5
}
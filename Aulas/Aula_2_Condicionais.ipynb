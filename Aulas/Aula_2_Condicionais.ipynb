{
  "cells": [
    {
      "cell_type": "markdown",
      "id": "87bf1d0b",
      "metadata": {
        "id": "87bf1d0b"
      },
      "source": [
        "\n",
        "# CONDICIONAIS"
      ]
    },
    {
      "cell_type": "markdown",
      "id": "4db9af18",
      "metadata": {
        "id": "4db9af18"
      },
      "source": [
        "Roteiro da aula:\n",
        "\n",
        "- Revisão\n",
        "    - 1- Prints \n",
        "    - 2- Operadores Aritméticos (+ ; - ; * ; / ; // ; % ; **)\n",
        "    - 3- Operadores de Comparação ( >; >=; <; <=; ==; !=)\n",
        "    - 4- Booleanos\n",
        "- Condicionais\n",
        "    - 5- If\n",
        "    - 6- Else\n",
        "    - 7- Elif\n",
        "    - 8- Operadores Lógicos (and, or, not)\n",
        "    - 9- Operadores de Identidade (is, is not)\n",
        "    - 10- Operadores de Associação (in, not in)"
      ]
    },
    {
      "cell_type": "markdown",
      "id": "620c9676",
      "metadata": {
        "id": "620c9676"
      },
      "source": [
        "## Prints\n",
        "\n",
        "Sua função é, basicamente, exibir mensagens na tela, então, com ela você consegue observar variáveis e interagir com o usuário."
      ]
    },
    {
      "cell_type": "code",
      "execution_count": null,
      "id": "b710b898",
      "metadata": {
        "id": "b710b898",
        "outputId": "5ff38845-e808-45d5-ba60-85f40bb6255e"
      },
      "outputs": [
        {
          "name": "stdout",
          "output_type": "stream",
          "text": [
            "Olá, feanos. Bora estudar estatística!\n"
          ]
        }
      ],
      "source": [
        "# 1 Prints\n",
        "\n",
        "pessoa = 'feanos'\n",
        "conteudo = 'estatística'\n",
        "detalhe = 'estudar'\n",
        "\n",
        "# 2 maneiras diferentes de \"printar\" textos com variáveis:\n",
        "\n",
        "#print('Olá, {}. Bora aprender {}!'.format(pessoa, conteudo))\n",
        "\n",
        "print(f'Olá, {pessoa}. Bora {detalhe} {conteudo}!') # Eu recomendo essa 😉"
      ]
    },
    {
      "cell_type": "markdown",
      "id": "9a673790",
      "metadata": {
        "id": "9a673790"
      },
      "source": [
        "## Operadores Aritméticos\n",
        "\n",
        "Esses operadores são utilizados para criarmos expressões matemáticas comuns, como soma, subtração, multiplicação, divisão, exponencial e radiciação.\n",
        "E até mesmo verificarmos \"restos de divisão\" - por exemplo, que são muito importantes na construção de uma lógica de verificação (veremos mais a frente).\n",
        "\n",
        "\n"
      ]
    },
    {
      "cell_type": "code",
      "execution_count": null,
      "id": "9287f8be",
      "metadata": {
        "id": "9287f8be",
        "outputId": "6e0d9977-7f0f-4eb5-bddb-6185e4a3d0b3"
      },
      "outputs": [
        {
          "name": "stdout",
          "output_type": "stream",
          "text": [
            "Soma: 11\n",
            "Subtração: -7\n",
            "Multiplicação: 18\n",
            "Divisão: 4.5\n",
            "Divisão (Apenas parte inteira): 4\n",
            "Divisão (Apenas o resto): 1\n",
            "Exponencial: 81\n",
            "Raiz: 3\n"
          ]
        }
      ],
      "source": [
        "# 2 Operadores Aritméticos (+; -; *; /; //; %; **)\n",
        "\n",
        "n = 2\n",
        "n2 = 9\n",
        "n3 = 1\n",
        "\n",
        "raiz = int(n2 ** (1/n))\n",
        "\n",
        "print(f'Soma: {n + n2}')\n",
        "print(f'Subtração: {n - n2}')\n",
        "print(f'Multiplicação: {n * n2}')\n",
        "print(f'Divisão: {n2 / n}')\n",
        "print(f'Divisão (Apenas parte inteira): {n2 // n}')\n",
        "print(f'Divisão (Apenas o resto): {n2 % n}')\n",
        "print(f'Exponencial: {n2 ** n}')\n",
        "print(f'Raiz: {raiz}')"
      ]
    },
    {
      "cell_type": "markdown",
      "id": "41688417",
      "metadata": {
        "id": "41688417"
      },
      "source": [
        "## Operadores de Comparação\n",
        "\n",
        "Os operadores de comparação são usados para comparar valores, o que vai retornar True ou False, dependendo da condição."
      ]
    },
    {
      "cell_type": "code",
      "execution_count": null,
      "id": "14735349",
      "metadata": {
        "id": "14735349",
        "outputId": "3bc7cd75-0c0f-4d53-e3fa-21973e73abd2"
      },
      "outputs": [
        {
          "name": "stdout",
          "output_type": "stream",
          "text": [
            "n1 é maior que n2? False\n",
            "n1 é menor que n2? True\n",
            "n1 é maior ou igual que n2? False\n",
            "n1 é menor ou igual que n2? True\n",
            "n1 é igual a n2? False\n",
            "n1 é diferente de n2? True\n"
          ]
        }
      ],
      "source": [
        "# 3 Operadores de Comparação ( >; >=; <; <=; ==; !=)\n",
        "\n",
        "n1 = 2\n",
        "n2 = 3\n",
        "\n",
        "print(f'n1 é maior que n2? {n1 > n2}')\n",
        "print(f'n1 é menor que n2? {n1 < n2}')\n",
        "print(f'n1 é maior ou igual que n2? {n1 >= n2}')\n",
        "print(f'n1 é menor ou igual que n2? {n1 <= n2}')\n",
        "print(f'n1 é igual a n2? {n1 == n2}')\n",
        "print(f'n1 é diferente de n2? {n1 != n2}')"
      ]
    },
    {
      "cell_type": "markdown",
      "id": "8cf3fe99",
      "metadata": {
        "id": "8cf3fe99"
      },
      "source": [
        "## Booleans\n",
        "\n",
        "O tipo booleano Python é um dos tipos de dados internos fornecidos pelo Python, que são definidos pelas palavras-chave True ou False. Geralmente, é usado para representar os valores verdade das expressões"
      ]
    },
    {
      "cell_type": "code",
      "execution_count": null,
      "id": "4fa7687b",
      "metadata": {
        "id": "4fa7687b",
        "outputId": "ce0fd463-a32c-4dae-80ad-39a651baf2fe"
      },
      "outputs": [
        {
          "name": "stdout",
          "output_type": "stream",
          "text": [
            "<class 'bool'>\n",
            "<class 'bool'>\n"
          ]
        }
      ],
      "source": [
        "# 4 Booleanos\n",
        "\n",
        "# Tipo da variável\n",
        "print(type(True))\n",
        "print(type(False))"
      ]
    },
    {
      "cell_type": "code",
      "execution_count": null,
      "id": "6e84ffcc",
      "metadata": {
        "id": "6e84ffcc",
        "outputId": "d9503575-b887-4412-8cae-c10f5106bd46"
      },
      "outputs": [
        {
          "name": "stdout",
          "output_type": "stream",
          "text": [
            "Exemplo1: 2\n",
            "Exemplo2: 3\n",
            "Exemplo3: 0\n",
            "Exemplo4: 2\n"
          ]
        }
      ],
      "source": [
        "# O python entende os valores e consegue fazer contas atribuindo 1 ao True e 0 ao False\n",
        "print(f'Exemplo1: {True + True}')\n",
        "print(f'Exemplo2: {2 + True}')\n",
        "print(f'Exemplo3: {False + False}')\n",
        "print(f'Exemplo4: {2 + False}')"
      ]
    },
    {
      "cell_type": "code",
      "execution_count": null,
      "id": "03393da5",
      "metadata": {
        "id": "03393da5",
        "outputId": "9b3c2041-09e5-4447-c239-a9eeb799b49a"
      },
      "outputs": [
        {
          "name": "stdout",
          "output_type": "stream",
          "text": [
            "1\n",
            "0\n"
          ]
        }
      ],
      "source": [
        "# Conversão - bool para inteiro\n",
        "print(int(True))\n",
        "print(int(False))"
      ]
    },
    {
      "cell_type": "code",
      "execution_count": null,
      "id": "310f50ee",
      "metadata": {
        "id": "310f50ee",
        "outputId": "4abf34c0-b3d9-4c02-d4a4-add4caf0c3d7"
      },
      "outputs": [
        {
          "name": "stdout",
          "output_type": "stream",
          "text": [
            "True\n",
            "False\n"
          ]
        }
      ],
      "source": [
        "# Conversão - int para bool\n",
        "print(bool(1))\n",
        "print(bool(0))"
      ]
    },
    {
      "cell_type": "markdown",
      "id": "75d6b3cf",
      "metadata": {
        "id": "75d6b3cf"
      },
      "source": [
        "##  Condicionais\n",
        "\n",
        "O if é uma estrutura de condição que permite avaliar uma expressão e, de acordo com seu resultado, executar uma determinada ação."
      ]
    },
    {
      "cell_type": "code",
      "execution_count": null,
      "id": "c7128c73",
      "metadata": {
        "scrolled": true,
        "id": "c7128c73",
        "outputId": "f377ce70-9b12-4c0a-9d30-fc4b8be3ee34"
      },
      "outputs": [
        {
          "name": "stdout",
          "output_type": "stream",
          "text": [
            "Insira valor de x: 7\n",
            "Insira valor de y: 4\n",
            "x é menor que y\n",
            "x é maior que y\n"
          ]
        }
      ],
      "source": [
        "#If\n",
        "### Modelo ineficiente!!\n",
        "\n",
        "x = int(input('Insira valor de x: '))\n",
        "y = int(input('Insira valor de y: '))\n",
        "\n",
        "if x > y:\n",
        "    print('x é menor que y')   \n",
        "if x > y:\n",
        "    print('x é maior que y')"
      ]
    },
    {
      "cell_type": "markdown",
      "id": "d50d1d8d",
      "metadata": {
        "id": "d50d1d8d"
      },
      "source": [
        "## Else\n",
        "\n",
        "\n",
        "Condicionais, de uma forma bem simplista, é o que o python usa para tomada de decisão, seja em definição de variável, ação após determinado resultado e afins.\n",
        "\n",
        "\n",
        "Receita:\n",
        "SE condição verdadeira :\n",
        "    Ação 1\n",
        "ELSE:\n",
        "    Ação 2"
      ]
    },
    {
      "cell_type": "code",
      "execution_count": null,
      "id": "3c2be985",
      "metadata": {
        "scrolled": true,
        "id": "3c2be985",
        "outputId": "661cc824-d5a4-4b8d-9aea-0a217b216e8b"
      },
      "outputs": [
        {
          "name": "stdout",
          "output_type": "stream",
          "text": [
            "Insira valor de x: 4\n",
            "Insira valor de y: 4\n",
            "x é maior que y\n"
          ]
        }
      ],
      "source": [
        "# 6- Else\n",
        "#Modelo mais simples com 2 condições\n",
        "\n",
        "x = int(input('Insira valor de x: '))\n",
        "y = int(input('Insira valor de y: '))\n",
        "\n",
        "if x < y:\n",
        "    print('x é menor que y')\n",
        "else: \n",
        "    print('x é maior que y')"
      ]
    },
    {
      "cell_type": "markdown",
      "id": "ab343e7b",
      "metadata": {
        "id": "ab343e7b"
      },
      "source": [
        "## Elif\n",
        "\n",
        "Melhor forma de  esse “erro de design”.. elif (junção de “else if”)"
      ]
    },
    {
      "cell_type": "code",
      "execution_count": null,
      "id": "296bbf06",
      "metadata": {
        "id": "296bbf06",
        "outputId": "f4c4097f-3091-4345-d84b-ee186dde7486"
      },
      "outputs": [
        {
          "name": "stdout",
          "output_type": "stream",
          "text": [
            "Insira valor de x: 8\n",
            "Insira valor de y: 9\n",
            "x é menor que y\n",
            "Hello world!\n"
          ]
        }
      ],
      "source": [
        "#Modelo mais completo\n",
        "x = int(input('Insira valor de x: '))\n",
        "y = int(input('Insira valor de y: '))\n",
        "\n",
        "if x > y:\n",
        "    print('x é maior que y')\n",
        "elif x < y:\n",
        "    print('x é menor que y')\n",
        "else: \n",
        "    print('x é igual a y')\n",
        "    \n",
        "print('Hello world!')"
      ]
    },
    {
      "cell_type": "code",
      "execution_count": null,
      "id": "8211aad0",
      "metadata": {
        "id": "8211aad0",
        "outputId": "101d9506-886b-47db-c8a5-8f7b17a62b26"
      },
      "outputs": [
        {
          "name": "stdout",
          "output_type": "stream",
          "text": [
            "Insira o número que você quer conferir: 8\n",
            "é par!\n"
          ]
        }
      ],
      "source": [
        "## Par ou ímpar\n",
        "a_ser_verificado = int(input(\"Insira o número que você quer conferir: \"))\n",
        "verif = a_ser_verificado%2 \n",
        "\n",
        "if verif != 0 :\n",
        "    print('é impar')\n",
        "else:\n",
        "    print('é par!')    "
      ]
    },
    {
      "cell_type": "code",
      "execution_count": null,
      "id": "bb1fe305",
      "metadata": {
        "id": "bb1fe305",
        "outputId": "9e299546-a44d-4ab2-eb49-4634828b44af"
      },
      "outputs": [
        {
          "name": "stdout",
          "output_type": "stream",
          "text": [
            "0\n"
          ]
        }
      ],
      "source": [
        "print(verif)"
      ]
    },
    {
      "cell_type": "code",
      "execution_count": null,
      "id": "d9b01459",
      "metadata": {
        "id": "d9b01459",
        "outputId": "9e179254-1503-47c2-90bf-7b1243873864"
      },
      "outputs": [
        {
          "name": "stdout",
          "output_type": "stream",
          "text": [
            "Insira o número que você quer conferir: 8\n",
            "O resultado da verificação é 6561\n"
          ]
        }
      ],
      "source": [
        "a_ser_verificado = int(input(\"Insira o número que você quer conferir: \"))\n",
        "verif = a_ser_verificado%2 \n",
        "\n",
        "if verif != 0 :\n",
        "    resultado = 2*2+a_ser_verificado\n",
        "    print(f'O resultado da verificação é {resultado}')\n",
        "else:\n",
        "    resultado = 3**a_ser_verificado\n",
        "    print(f'O resultado da verificação é {resultado}')"
      ]
    },
    {
      "cell_type": "code",
      "execution_count": null,
      "id": "3992219d",
      "metadata": {
        "id": "3992219d",
        "outputId": "306fa1ce-05f6-48ac-9f69-dced9117f5cb"
      },
      "outputs": [
        {
          "name": "stdout",
          "output_type": "stream",
          "text": [
            "O resultado da verificação é 7\n"
          ]
        }
      ],
      "source": []
    },
    {
      "cell_type": "code",
      "execution_count": null,
      "id": "20bfe0c9",
      "metadata": {
        "id": "20bfe0c9",
        "outputId": "49ca13c1-472d-4681-c7aa-f1fc3a83e6dd"
      },
      "outputs": [
        {
          "name": "stdout",
          "output_type": "stream",
          "text": [
            "Insira o número que você quer conferir: 8\n"
          ]
        }
      ],
      "source": [
        "### Escrever de outra forma\n",
        "\n",
        "ser_verificado = int(input(\"Insira o número que você quer conferir: \"))\n",
        "\n",
        "if (ser_verificado%2) != 0 :\n",
        "    resultado_1 = 2*2+ser_verificado\n",
        "else:\n",
        "    resultado_1 = 3**ser_verificado"
      ]
    },
    {
      "cell_type": "code",
      "execution_count": null,
      "id": "b8cf618e",
      "metadata": {
        "id": "b8cf618e",
        "outputId": "bd85a103-82ee-419a-b496-596f8e12df56"
      },
      "outputs": [
        {
          "name": "stdout",
          "output_type": "stream",
          "text": [
            "O resultado da verificação é 6561\n"
          ]
        }
      ],
      "source": [
        "print(f'O resultado da verificação é {resultado_1}')"
      ]
    },
    {
      "cell_type": "code",
      "execution_count": null,
      "id": "daa6bb2d",
      "metadata": {
        "id": "daa6bb2d",
        "outputId": "9dd4351b-8d25-46fa-aac2-e3fddbc84cdc"
      },
      "outputs": [
        {
          "name": "stdout",
          "output_type": "stream",
          "text": [
            "Digite uma letra: e\n",
            "A letra é uma vogal!\n",
            "A letra é uma consoante!\n"
          ]
        }
      ],
      "source": [
        "### Retomando a questão da ineficiência\n",
        "\n",
        "n = str(input('Digite uma letra: '))\n",
        "\n",
        "if n == 'a':\n",
        "    print('A letra é uma vogal!')\n",
        "if n == 'e':\n",
        "    print('A letra é uma vogal!')\n",
        "if n == 'i':\n",
        "    print('A letra é uma vogal!')\n",
        "if n == 'o':\n",
        "    print('A letra é uma vogal!')\n",
        "if n == 'u':\n",
        "    print('A letra é uma vogal!')\n",
        "else:\n",
        "    print('A letra é uma consoante!')"
      ]
    },
    {
      "cell_type": "markdown",
      "id": "1b5a9fe7",
      "metadata": {
        "id": "1b5a9fe7"
      },
      "source": [
        "## Operadores Lógicos e de Associação\n",
        "\n",
        "Esses Operadores nos possibilitam construir um tipo de teste muito útil e muito utilizado em qualquer programa Python: os testes lógicos. Python nos disponibiliza três tipos de Operadores Lógicos: o and , o or e o not.\n",
        "\n",
        "Operadores de associação são operadores usados ​​para validar a associação de um valor. Ele testa a associação em uma sequência, como strings, listas ou tuplas. operador in: O operador 'in' é usado para verificar se um valor existe ou não em uma sequência."
      ]
    },
    {
      "cell_type": "code",
      "execution_count": null,
      "id": "c8f4436f",
      "metadata": {
        "id": "c8f4436f",
        "outputId": "f55b1240-c40a-4362-b806-51927b102083"
      },
      "outputs": [
        {
          "name": "stdout",
          "output_type": "stream",
          "text": [
            "Digite uma letra: e\n",
            "A letra é uma vogal!\n"
          ]
        }
      ],
      "source": [
        "n = str(input('Digite uma letra: '))\n",
        "\n",
        "if n == 'a' or n =='e' or n =='i' or n =='o' or n =='u':\n",
        "    print('A letra é uma vogal!')\n",
        "else:\n",
        "    print('A letra é uma consoante!')\n"
      ]
    },
    {
      "cell_type": "code",
      "execution_count": null,
      "id": "c1b3d1fd",
      "metadata": {
        "id": "c1b3d1fd",
        "outputId": "cccc9748-2d32-4578-aa82-85d716500836"
      },
      "outputs": [
        {
          "name": "stdout",
          "output_type": "stream",
          "text": [
            "Digite uma letra: e\n",
            "A letra é uma vogal!\n"
          ]
        }
      ],
      "source": [
        "# Operadores de Associação (in, not in)\n",
        "n = str(input('Digite uma letra: '))\n",
        "vogais = ['a', 'e', 'i', 'o', 'u']\n",
        "if n in vogais:\n",
        "    print('A letra é uma vogal!')\n",
        "else:\n",
        "    print('A letra é uma consoante!')"
      ]
    },
    {
      "cell_type": "code",
      "execution_count": null,
      "id": "0f04b405",
      "metadata": {
        "id": "0f04b405",
        "outputId": "2ca6d730-bff0-41d4-84e0-c1c4e784ebd7"
      },
      "outputs": [
        {
          "name": "stdout",
          "output_type": "stream",
          "text": [
            "faltou\n"
          ]
        }
      ],
      "source": [
        "### Vamos supor que recebemos uma lista de alunos que foram na última aula do dev,\n",
        "### e queremos verificar se um dos nossos amigos está na lista\n",
        "\n",
        "devers = ['Lais', 'Thomas', 'Kevs', 'Lott', 'Alice', 'Julia']\n",
        "if 'Lucas' not in devers:\n",
        "    print('faltou')\n",
        "else: \n",
        "    print('Este aluno não faltou!')"
      ]
    },
    {
      "cell_type": "code",
      "execution_count": null,
      "id": "a003012d",
      "metadata": {
        "id": "a003012d",
        "outputId": "eb906974-cbbd-4fbf-f16a-4dbae28e7997"
      },
      "outputs": [
        {
          "name": "stdout",
          "output_type": "stream",
          "text": [
            "Os dois faltaram\n"
          ]
        }
      ],
      "source": [
        "### and\n",
        "\n",
        "if 'Kevyn'in devers and 'Thomaz' in devers:\n",
        "    print(\"Bom sinal\")\n",
        "elif 'Kevyn'in devers or 'Thomaz' in devers:\n",
        "    print('Ao menos um dos meus amigos faltou')\n",
        "else:\n",
        "    print('Os dois faltaram')"
      ]
    },
    {
      "cell_type": "code",
      "execution_count": null,
      "id": "e7379315",
      "metadata": {
        "id": "e7379315",
        "outputId": "63b15a17-f011-445b-b3ed-b7847e89a18a"
      },
      "outputs": [
        {
          "name": "stdout",
          "output_type": "stream",
          "text": [
            "Vish...\n"
          ]
        }
      ],
      "source": [
        "### or\n",
        "\n",
        "if 'Kevyn' in devers or 'Lucas' in devers:\n",
        "    print('Tenho amigo para assinar a lista para mim!')\n",
        "else :\n",
        "    print( 'Vish...')\n"
      ]
    },
    {
      "cell_type": "markdown",
      "id": "58d972b1",
      "metadata": {
        "id": "58d972b1"
      },
      "source": [
        "## Operadores de Identidade\n",
        "\n",
        "Os operadores de identidade servem para a comparação de objetos. Nessa comparação é verificado se eles ocupam a mesma posição na memória, o que significará que se trata do mesmo objeto."
      ]
    },
    {
      "cell_type": "code",
      "execution_count": null,
      "id": "d0a2653f",
      "metadata": {
        "id": "d0a2653f",
        "outputId": "4b86e711-5b60-4f43-9a9a-b07542c6f10e"
      },
      "outputs": [
        {
          "data": {
            "text/plain": [
              "True"
            ]
          },
          "execution_count": 58,
          "metadata": {},
          "output_type": "execute_result"
        }
      ],
      "source": [
        "#5.3 Operadores de Identidade (is, is not) # Checa se é o mesmo objeto, e não se são iguais\n",
        "\n",
        "lista1 = [1, 2, 3]\n",
        "lista2 = [1, 2, 4]\n",
        "lista3 = lista1\n",
        "\n",
        "# lista 1 é a lista 2?\n",
        "#lista1 is lista2\n",
        "\n",
        "# Lista 1 não é a lista 2\n",
        "#lista1 is not lista3\n",
        "\n",
        "# Lista 1 é a lista 3?\n",
        "lista1 is lista3"
      ]
    },
    {
      "cell_type": "markdown",
      "id": "94116115",
      "metadata": {
        "id": "94116115"
      },
      "source": [
        "## Bônus - Prints Condicionais em uma linha:"
      ]
    },
    {
      "cell_type": "code",
      "execution_count": null,
      "id": "9388ec5e",
      "metadata": {
        "id": "9388ec5e",
        "outputId": "f7725626-c100-4ffb-9598-8f03d85d1f79"
      },
      "outputs": [
        {
          "name": "stdout",
          "output_type": "stream",
          "text": [
            "False\n"
          ]
        }
      ],
      "source": [
        "# Exemplo: Printar se o número é par ou ímpar\n",
        "n = int(input('Digite um número: '))\n",
        "\n",
        "if n % 2 == 0:\n",
        "    print(True)\n",
        "else:\n",
        "    print(False)"
      ]
    },
    {
      "cell_type": "code",
      "execution_count": null,
      "id": "dae64850",
      "metadata": {
        "id": "dae64850",
        "outputId": "11f77a7f-a00c-48f0-9c28-2dff1b5b7ff8"
      },
      "outputs": [
        {
          "name": "stdout",
          "output_type": "stream",
          "text": [
            "False\n"
          ]
        }
      ],
      "source": [
        "n = int(input('Digite um número: '))\n",
        "\n",
        "print(True if n % 2 == 0 else False)"
      ]
    }
  ],
  "metadata": {
    "kernelspec": {
      "display_name": "Python 3.10.7 64-bit",
      "language": "python",
      "name": "python3"
    },
    "language_info": {
      "codemirror_mode": {
        "name": "ipython",
        "version": 3
      },
      "file_extension": ".py",
      "mimetype": "text/x-python",
      "name": "python",
      "nbconvert_exporter": "python",
      "pygments_lexer": "ipython3",
      "version": "3.10.7"
    },
    "vscode": {
      "interpreter": {
        "hash": "a289efcc8cdaddc677488112ca48e5ab9c82fb738b15b56b6e2d579b8cc30a69"
      }
    },
    "colab": {
      "provenance": []
    }
  },
  "nbformat": 4,
  "nbformat_minor": 5
}